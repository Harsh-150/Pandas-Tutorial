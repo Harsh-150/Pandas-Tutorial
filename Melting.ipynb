{
 "cells": [
  {
   "cell_type": "code",
   "execution_count": 11,
   "id": "9103da13-10d7-4f71-8c96-db8152d0cf67",
   "metadata": {},
   "outputs": [
    {
     "name": "stdout",
     "output_type": "stream",
     "text": [
      "  Keys    Names Houses Grades\n",
      "0   K1    Rahul    Red      A\n",
      "1   K2      Raj   Blue      A\n",
      "2   K2    Harsh  Green      D\n",
      "3   K1     Yash  Green      C\n",
      "4   K2  Kaushal    Red      B\n",
      "5   K1      Ali   Blue      A\n",
      "\n",
      "      Names variable  value\n",
      "0     Rahul   Houses    Red\n",
      "1       Raj   Houses   Blue\n",
      "2     Harsh   Houses  Green\n",
      "3      Yash   Houses  Green\n",
      "4   Kaushal   Houses    Red\n",
      "5       Ali   Houses   Blue\n",
      "6     Rahul   Grades      A\n",
      "7       Raj   Grades      A\n",
      "8     Harsh   Grades      D\n",
      "9      Yash   Grades      C\n",
      "10  Kaushal   Grades      B\n",
      "11      Ali   Grades      A\n",
      "\n",
      "      Names Houses & Grades  Value\n",
      "0     Rahul          Houses    Red\n",
      "1       Raj          Houses   Blue\n",
      "2     Harsh          Houses  Green\n",
      "3      Yash          Houses  Green\n",
      "4   Kaushal          Houses    Red\n",
      "5       Ali          Houses   Blue\n",
      "6     Rahul          Grades      A\n",
      "7       Raj          Grades      A\n",
      "8     Harsh          Grades      D\n",
      "9      Yash          Grades      C\n",
      "10  Kaushal          Grades      B\n",
      "11      Ali          Grades      A\n"
     ]
    }
   ],
   "source": [
    "import pandas as pd\n",
    "\n",
    "dict = {\"Keys\":[\"K1\",\"K2\",\"K2\",\"K1\",\"K2\",\"K1\"],\n",
    "       \"Names\":[\"Rahul\",\"Raj\",\"Harsh\",\"Yash\",\"Kaushal\",\"Ali\"],\n",
    "       \"Houses\":[\"Red\",\"Blue\",\"Green\",\"Green\",\"Red\",\"Blue\"],\n",
    "       \"Grades\":[\"A\",\"A\",\"D\",\"C\",\"B\",\"A\"]}\n",
    "\n",
    "df = pd.DataFrame(dict)\n",
    "print(df)\n",
    "print()\n",
    "\n",
    "print(pd.melt(df , id_vars=[\"Names\"] , value_vars=[\"Houses\",\"Grades\"]))\n",
    "print()\n",
    "\n",
    "print(pd.melt(df , id_vars=[\"Names\"] , value_vars=[\"Houses\",\"Grades\"] , var_name=\"Houses & Grades\" , value_name=\"Value\"))"
   ]
  },
  {
   "cell_type": "code",
   "execution_count": null,
   "id": "cc4d9400-b606-44e4-86b3-f16e289bd9e4",
   "metadata": {},
   "outputs": [],
   "source": []
  }
 ],
 "metadata": {
  "kernelspec": {
   "display_name": "Python 3 (ipykernel)",
   "language": "python",
   "name": "python3"
  },
  "language_info": {
   "codemirror_mode": {
    "name": "ipython",
    "version": 3
   },
   "file_extension": ".py",
   "mimetype": "text/x-python",
   "name": "python",
   "nbconvert_exporter": "python",
   "pygments_lexer": "ipython3",
   "version": "3.12.4"
  }
 },
 "nbformat": 4,
 "nbformat_minor": 5
}
