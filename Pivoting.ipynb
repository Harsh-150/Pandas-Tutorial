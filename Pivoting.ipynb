{
 "cells": [
  {
   "cell_type": "code",
   "execution_count": 23,
   "id": "0160299b-99be-4522-b75f-b297e8768e64",
   "metadata": {},
   "outputs": [
    {
     "name": "stdout",
     "output_type": "stream",
     "text": [
      "  Keys    Names Houses Grades\n",
      "0   K1    Rahul    Red      A\n",
      "1   K2      Raj   Blue      A\n",
      "2   K2    Harsh  Green      D\n",
      "3   K1     Yash  Green      C\n",
      "4   K2  Kaushal    Red      B\n",
      "5   K1      Ali   Blue      A\n",
      "\n",
      "<bound method DataFrame.pivot of   Keys    Names Houses Grades\n",
      "0   K1    Rahul    Red      A\n",
      "1   K2      Raj   Blue      A\n",
      "2   K2    Harsh  Green      D\n",
      "3   K1     Yash  Green      C\n",
      "4   K2  Kaushal    Red      B\n",
      "5   K1      Ali   Blue      A>\n",
      "\n",
      "      Houses                                   Grades                      \\\n",
      "Names    Ali  Harsh Kaushal Rahul   Raj   Yash    Ali Harsh Kaushal Rahul   \n",
      "Keys                                                                        \n",
      "K1      Blue    NaN     NaN   Red   NaN  Green      A   NaN     NaN     A   \n",
      "K2       NaN  Green     Red   NaN  Blue    NaN    NaN     D       B   NaN   \n",
      "\n",
      "                 \n",
      "Names  Raj Yash  \n",
      "Keys             \n",
      "K1     NaN    C  \n",
      "K2       A  NaN  \n"
     ]
    }
   ],
   "source": [
    "import pandas as pd\n",
    "\n",
    "dict = {\"Keys\":[\"K1\",\"K2\",\"K2\",\"K1\",\"K2\",\"K1\"],\n",
    "       \"Names\":[\"Rahul\",\"Raj\",\"Harsh\",\"Yash\",\"Kaushal\",\"Ali\"],\n",
    "       \"Houses\":[\"Red\",\"Blue\",\"Green\",\"Green\",\"Red\",\"Blue\"],\n",
    "       \"Grades\":[\"A\",\"A\",\"D\",\"C\",\"B\",\"A\"]}\n",
    "\n",
    "df = pd.DataFrame(dict)\n",
    "print(df)\n",
    "print()\n",
    "\n",
    "print(df.pivot)\n",
    "print()\n",
    "\n",
    "print(df.pivot(index=\"Keys\" , columns=\"Names\" , values = [\"Houses\" , \"Grades\"]))"
   ]
  },
  {
   "cell_type": "code",
   "execution_count": null,
   "id": "f771a2ce-16a0-47a0-8199-02243b0595ac",
   "metadata": {},
   "outputs": [],
   "source": []
  }
 ],
 "metadata": {
  "kernelspec": {
   "display_name": "Python 3 (ipykernel)",
   "language": "python",
   "name": "python3"
  },
  "language_info": {
   "codemirror_mode": {
    "name": "ipython",
    "version": 3
   },
   "file_extension": ".py",
   "mimetype": "text/x-python",
   "name": "python",
   "nbconvert_exporter": "python",
   "pygments_lexer": "ipython3",
   "version": "3.12.4"
  }
 },
 "nbformat": 4,
 "nbformat_minor": 5
}
