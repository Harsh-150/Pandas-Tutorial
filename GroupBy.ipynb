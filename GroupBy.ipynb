{
 "cells": [
  {
   "cell_type": "code",
   "execution_count": 5,
   "id": "387feec1-4c50-4a21-b0bc-ffc0e54e3df0",
   "metadata": {},
   "outputs": [
    {
     "name": "stdout",
     "output_type": "stream",
     "text": [
      "          region          category           parameter    mode  \\\n",
      "0            NaN               NaN                 NaN     NaN   \n",
      "1      Australia        Historical      EV sales share    Cars   \n",
      "2      Australia               NaN            EV sales     NaN   \n",
      "3      Australia        Historical            EV stock    Cars   \n",
      "4      Australia        Historical            EV stock    Cars   \n",
      "...          ...               ...                 ...     ...   \n",
      "12649      World  Projection-STEPS      EV sales share    Cars   \n",
      "12650      World  Projection-STEPS      EV stock share    Cars   \n",
      "12651      World    Projection-APS  EV charging points      EV   \n",
      "12652      World    Projection-APS  EV charging points      EV   \n",
      "12653      World  Projection-STEPS      EV stock share  Trucks   \n",
      "\n",
      "                    powertrain    year             unit       value  \n",
      "0                          NaN     NaN              NaN         NaN  \n",
      "1                           EV  2011.0          percent         NaN  \n",
      "2                          BEV  2011.0         Vehicles        49.0  \n",
      "3                          BEV  2011.0         Vehicles        49.0  \n",
      "4                          BEV  2012.0         Vehicles         NaN  \n",
      "...                        ...     ...              ...         ...  \n",
      "12649                       EV  2035.0          percent        55.0  \n",
      "12650                       EV  2035.0          percent        31.0  \n",
      "12651  Publicly available fast  2035.0  charging points   9400000.0  \n",
      "12652  Publicly available slow  2035.0  charging points  15000000.0  \n",
      "12653                       EV  2035.0          percent         9.0  \n",
      "\n",
      "[12654 rows x 8 columns]\n"
     ]
    }
   ],
   "source": [
    "import pandas as pd\n",
    "\n",
    "data = pd.read_csv(\"EV-Data.csv\")\n",
    "print(data)"
   ]
  },
  {
   "cell_type": "code",
   "execution_count": 11,
   "id": "3a73ab15-e194-402f-96a9-149ba2eb2119",
   "metadata": {},
   "outputs": [
    {
     "name": "stdout",
     "output_type": "stream",
     "text": [
      "                                         powertrain\n",
      "region    parameter                                \n",
      "Australia EV charging points                     12\n",
      "          EV sales                               28\n",
      "          EV sales share                         13\n",
      "          EV stock                               28\n",
      "          EV stock share                         12\n",
      "...                                             ...\n",
      "World     EV stock                              323\n",
      "          EV stock share                        112\n",
      "          Electricity demand                    112\n",
      "          Oil displacement Mbd                  112\n",
      "          Oil displacement, million lge         112\n",
      "\n",
      "[230 rows x 1 columns]\n"
     ]
    }
   ],
   "source": [
    "gp = data.groupby([\"region\" , \"parameter\"]).agg({\"powertrain\":\"count\"})\n",
    "print(gp)"
   ]
  },
  {
   "cell_type": "code",
   "execution_count": 19,
   "id": "6a609c28-9ef4-461a-8816-7cc700db01c1",
   "metadata": {},
   "outputs": [
    {
     "name": "stdout",
     "output_type": "stream",
     "text": [
      "                             value\n",
      "region                            \n",
      "Australia             6.571101e+03\n",
      "Austria               7.893704e+03\n",
      "Belgium               5.779847e+03\n",
      "Brazil                1.493081e+03\n",
      "Bulgaria              1.854716e+02\n",
      "Canada                1.053011e+04\n",
      "Chile                 1.688129e+02\n",
      "China                 1.084861e+06\n",
      "Colombia              5.937617e+02\n",
      "Costa Rica            1.024344e+03\n",
      "Croatia               5.048473e+02\n",
      "Cyprus                1.626779e+02\n",
      "Czech Republic        1.429838e+03\n",
      "Denmark               3.659410e+03\n",
      "EU27                  8.319104e+04\n",
      "Estonia               1.842204e+02\n",
      "Europe                4.971335e+05\n",
      "Finland               3.906837e+03\n",
      "France                2.008121e+04\n",
      "Germany               3.549069e+04\n",
      "Greece                1.388451e+03\n",
      "Hungary               1.558194e+03\n",
      "Iceland               1.690550e+03\n",
      "India                 9.609260e+04\n",
      "Indonesia             2.131250e+02\n",
      "Ireland               3.283324e+03\n",
      "Israel                3.310505e+03\n",
      "Italy                 8.717402e+03\n",
      "Japan                 1.490574e+04\n",
      "Korea                 1.511800e+04\n",
      "Latvia                1.746052e+02\n",
      "Lithuania             3.523995e+02\n",
      "Luxembourg            2.812700e+03\n",
      "Mexico                1.753220e+03\n",
      "Netherlands           1.144430e+04\n",
      "New Zealand           2.028064e+03\n",
      "Norway                1.832984e+04\n",
      "Poland                1.869433e+03\n",
      "Portugal              3.755777e+03\n",
      "Rest of the world     3.367868e+05\n",
      "Romania               2.079894e+03\n",
      "Seychelles            1.999333e+01\n",
      "Slovakia              5.811791e+02\n",
      "Slovenia              5.578858e+02\n",
      "South Africa          2.209535e+02\n",
      "Spain                 6.042506e+03\n",
      "Sweden                9.703213e+03\n",
      "Switzerland           5.048013e+03\n",
      "Thailand              6.950714e+02\n",
      "Turkiye               2.551686e+03\n",
      "USA                   5.727084e+05\n",
      "United Arab Emirates  2.935066e+03\n",
      "United Kingdom        1.887637e+04\n",
      "World                 2.124038e+06\n"
     ]
    }
   ],
   "source": [
    "gp = data.groupby(\"region\").agg({\"value\":\"mean\"})\n",
    "print(gp)"
   ]
  },
  {
   "cell_type": "code",
   "execution_count": null,
   "id": "b0743f08-67de-47d7-bf6f-d4cf753fd8fe",
   "metadata": {},
   "outputs": [],
   "source": []
  }
 ],
 "metadata": {
  "kernelspec": {
   "display_name": "Python 3 (ipykernel)",
   "language": "python",
   "name": "python3"
  },
  "language_info": {
   "codemirror_mode": {
    "name": "ipython",
    "version": 3
   },
   "file_extension": ".py",
   "mimetype": "text/x-python",
   "name": "python",
   "nbconvert_exporter": "python",
   "pygments_lexer": "ipython3",
   "version": "3.12.4"
  }
 },
 "nbformat": 4,
 "nbformat_minor": 5
}
