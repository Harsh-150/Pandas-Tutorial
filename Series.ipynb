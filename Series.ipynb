{
 "cells": [
  {
   "cell_type": "code",
   "execution_count": 9,
   "id": "e63af38b-0ea8-4770-9f4e-f9c472e3ea47",
   "metadata": {},
   "outputs": [
    {
     "name": "stdout",
     "output_type": "stream",
     "text": [
      "0    1\n",
      "1    2\n",
      "2    3\n",
      "3    4\n",
      "4    5\n",
      "5    6\n",
      "6    7\n",
      "7    8\n",
      "dtype: int64\n",
      "<class 'pandas.core.series.Series'>\n",
      "5\n"
     ]
    }
   ],
   "source": [
    "import pandas as pd\n",
    "\n",
    "x = [1,2,3,4,5,6,7,8]\n",
    "\n",
    "var = pd.Series(x)\n",
    "\n",
    "print(var)\n",
    "print(type(var))\n",
    "print(var[4])"
   ]
  },
  {
   "cell_type": "code",
   "execution_count": 17,
   "id": "3e010ac4-627c-47bb-81aa-0b3a5c8e6aab",
   "metadata": {},
   "outputs": [
    {
     "name": "stdout",
     "output_type": "stream",
     "text": [
      "a    1.0\n",
      "b    2.0\n",
      "c    3.0\n",
      "d    4.0\n",
      "Name: Python, dtype: float64\n"
     ]
    }
   ],
   "source": [
    "y = [1,2,3,4]\n",
    "\n",
    "var = pd.Series(y, index=['a','b','c','d'],dtype=\"float\",name=\"Python\")\n",
    "print(var)"
   ]
  },
  {
   "cell_type": "code",
   "execution_count": 21,
   "id": "42086e1e-b130-4f74-996e-2d6277a6a01d",
   "metadata": {},
   "outputs": [
    {
     "name": "stdout",
     "output_type": "stream",
     "text": [
      "Name          [Python, Java, C, C++]\n",
      "Popularity             [10, 9, 5, 7]\n",
      "Rank                    [1, 2, 8, 5]\n",
      "dtype: object\n"
     ]
    }
   ],
   "source": [
    "dict = {\"Name\":[\"Python\",\"Java\",\"C\",\"C++\"] , \"Popularity\":[10,9,5,7] , \"Rank\":[1,2,8,5]}\n",
    "\n",
    "var = pd.Series(dict)\n",
    "\n",
    "print(var)"
   ]
  },
  {
   "cell_type": "code",
   "execution_count": 23,
   "id": "e5b97b97-3383-4031-971e-d613c46ff873",
   "metadata": {},
   "outputs": [
    {
     "name": "stdout",
     "output_type": "stream",
     "text": [
      "1    12\n",
      "2    12\n",
      "3    12\n",
      "4    12\n",
      "5    12\n",
      "6    12\n",
      "7    12\n",
      "8    12\n",
      "9    12\n",
      "dtype: int64\n"
     ]
    }
   ],
   "source": [
    "s = pd.Series(12,index=[1,2,3,4,5,6,7,8,9])\n",
    "\n",
    "print(s)"
   ]
  },
  {
   "cell_type": "code",
   "execution_count": 25,
   "id": "ae1986bd-d284-4f77-8783-b6c1e125fa0b",
   "metadata": {},
   "outputs": [
    {
     "name": "stdout",
     "output_type": "stream",
     "text": [
      "1    30.0\n",
      "2    30.0\n",
      "3    30.0\n",
      "4    30.0\n",
      "5    30.0\n",
      "6    30.0\n",
      "7     NaN\n",
      "8     NaN\n",
      "9     NaN\n",
      "dtype: float64\n"
     ]
    }
   ],
   "source": [
    "s1 = pd.Series(10,index=[1,2,3,4,5,6,7,8,9])\n",
    "s2 = pd.Series(20,index=[1,2,3,4,5,6])\n",
    "\n",
    "print(s1+s2)"
   ]
  },
  {
   "cell_type": "code",
   "execution_count": null,
   "id": "fb7c3fcf-a7a9-4eda-8ad7-7a56b3ed2bf7",
   "metadata": {},
   "outputs": [],
   "source": []
  }
 ],
 "metadata": {
  "kernelspec": {
   "display_name": "Python 3 (ipykernel)",
   "language": "python",
   "name": "python3"
  },
  "language_info": {
   "codemirror_mode": {
    "name": "ipython",
    "version": 3
   },
   "file_extension": ".py",
   "mimetype": "text/x-python",
   "name": "python",
   "nbconvert_exporter": "python",
   "pygments_lexer": "ipython3",
   "version": "3.12.4"
  }
 },
 "nbformat": 4,
 "nbformat_minor": 5
}
