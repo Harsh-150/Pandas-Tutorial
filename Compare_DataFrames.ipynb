{
 "cells": [
  {
   "cell_type": "code",
   "execution_count": 15,
   "id": "b801e7a8-746e-45c0-98fe-9770353a3656",
   "metadata": {},
   "outputs": [
    {
     "name": "stdout",
     "output_type": "stream",
     "text": [
      "   Fruits  Price  Quantity\n",
      "0   Apple    100       200\n",
      "1   Mango     80       400\n",
      "2  Banana     70       600\n",
      "3  Papaya    110       150\n",
      "4   Guava     60       500\n",
      "\n",
      "   Fruits  Price  Quantity\n",
      "0   Apple    140       200\n",
      "1   Mango     80       400\n",
      "2  Banana     80       550\n",
      "3  Papaya    110       580\n",
      "4   Guava     60       420\n",
      "\n",
      "   Price        Quantity       \n",
      "    self  other     self  other\n",
      "0  100.0  140.0      NaN    NaN\n",
      "2   70.0   80.0    600.0  550.0\n",
      "3    NaN    NaN    150.0  580.0\n",
      "4    NaN    NaN    500.0  420.0\n",
      "\n",
      "         Price  Quantity\n",
      "0 self   100.0       NaN\n",
      "  other  140.0       NaN\n",
      "2 self    70.0     600.0\n",
      "  other   80.0     550.0\n",
      "3 self     NaN     150.0\n",
      "  other    NaN     580.0\n",
      "4 self     NaN     500.0\n",
      "  other    NaN     420.0\n",
      "\n",
      "  Price       Quantity      \n",
      "   self other     self other\n",
      "0   100   140      200   200\n",
      "2    70    80      600   550\n",
      "3   110   110      150   580\n",
      "4    60    60      500   420\n",
      "\n",
      "  Fruits        Price        Quantity       \n",
      "    self other   self  other     self  other\n",
      "0    NaN   NaN  100.0  140.0      NaN    NaN\n",
      "1    NaN   NaN    NaN    NaN      NaN    NaN\n",
      "2    NaN   NaN   70.0   80.0    600.0  550.0\n",
      "3    NaN   NaN    NaN    NaN    150.0  580.0\n",
      "4    NaN   NaN    NaN    NaN    500.0  420.0\n"
     ]
    }
   ],
   "source": [
    "import pandas as pd\n",
    "\n",
    "dict = {\"Fruits\":[\"Apple\",\"Mango\",\"Banana\",\"Papaya\",\"Guava\"],\n",
    "       \"Price\":[100,80,70,110,60],\n",
    "       \"Quantity\":[200,400,600,150,500]}\n",
    "\n",
    "df1 = pd.DataFrame(dict)\n",
    "print(df1)\n",
    "print()\n",
    "\n",
    "df2 = df1.copy()\n",
    "\n",
    "df2.loc[0,\"Price\"] = 140\n",
    "df2.loc[2,\"Price\"] = 80\n",
    "df2.loc[2,\"Quantity\"] = 550\n",
    "df2.loc[3,\"Quantity\"] = 580\n",
    "df2.loc[4,\"Quantity\"] = 420\n",
    "\n",
    "print(df2)\n",
    "print()\n",
    "\n",
    "print(df1.compare(df2))\n",
    "print()\n",
    "\n",
    "print(df1.compare(df2,align_axis=0))\n",
    "print()\n",
    "\n",
    "print(df1.compare(df2,keep_equal=True))\n",
    "print()\n",
    "\n",
    "print(df1.compare(df2,keep_shape=True))"
   ]
  },
  {
   "cell_type": "code",
   "execution_count": null,
   "id": "479630ed-dd21-4a75-95b1-003c1dedeeec",
   "metadata": {},
   "outputs": [],
   "source": []
  }
 ],
 "metadata": {
  "kernelspec": {
   "display_name": "Python 3 (ipykernel)",
   "language": "python",
   "name": "python3"
  },
  "language_info": {
   "codemirror_mode": {
    "name": "ipython",
    "version": 3
   },
   "file_extension": ".py",
   "mimetype": "text/x-python",
   "name": "python",
   "nbconvert_exporter": "python",
   "pygments_lexer": "ipython3",
   "version": "3.12.4"
  }
 },
 "nbformat": 4,
 "nbformat_minor": 5
}
