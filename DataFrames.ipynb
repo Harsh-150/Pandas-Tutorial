{
 "cells": [
  {
   "cell_type": "code",
   "execution_count": 3,
   "id": "e7df566e-c9e0-448a-8dfd-9d58667e5005",
   "metadata": {},
   "outputs": [
    {
     "name": "stdout",
     "output_type": "stream",
     "text": [
      "   0\n",
      "0  1\n",
      "1  2\n",
      "2  3\n",
      "3  4\n",
      "4  5\n",
      "5  6\n",
      "6  7\n",
      "7  8\n",
      "<class 'pandas.core.frame.DataFrame'>\n"
     ]
    }
   ],
   "source": [
    "import pandas as pd\n",
    "\n",
    "l = [1,2,3,4,5,6,7,8]\n",
    "var = pd.DataFrame(l)\n",
    "\n",
    "print(var)\n",
    "print(type(var))"
   ]
  },
  {
   "cell_type": "code",
   "execution_count": 30,
   "id": "083214b8-3668-40de-96dd-bf1f5b37508a",
   "metadata": {},
   "outputs": [
    {
     "name": "stdout",
     "output_type": "stream",
     "text": [
      "   a   b   1\n",
      "0  1  10  21\n",
      "1  2  11  22\n",
      "2  3  12  23\n",
      "3  4  13  24\n",
      "4  5  14  25\n",
      "<class 'pandas.core.frame.DataFrame'>\n",
      "\n",
      "   a\n",
      "0  1\n",
      "1  2\n",
      "2  3\n",
      "3  4\n",
      "4  5\n",
      "\n",
      "         b   1\n",
      "first   10  21\n",
      "second  11  22\n",
      "third   12  23\n",
      "fourth  13  24\n",
      "fifth   14  25\n",
      "11\n"
     ]
    }
   ],
   "source": [
    "dict = {\"a\":[1,2,3,4,5] , \"b\":[10,11,12,13,14] , 1:[21,22,23,24,25]} # length should be same\n",
    "\n",
    "var = pd.DataFrame(dict)\n",
    "\n",
    "var2 = pd.DataFrame(dict,columns=[\"a\"])\n",
    "\n",
    "var3 = pd.DataFrame(dict,columns=[\"b\",1],index=[\"first\",\"second\",\"third\",\"fourth\",\"fifth\"])\n",
    "\n",
    "print(var)\n",
    "print(type(var))\n",
    "\n",
    "print()\n",
    "\n",
    "print(var2)\n",
    "\n",
    "print()\n",
    "\n",
    "print(var3)\n",
    "print(var3[\"b\"][\"second\"])"
   ]
  },
  {
   "cell_type": "code",
   "execution_count": 36,
   "id": "4945b915-2cd7-4147-a248-c9a9700166cd",
   "metadata": {},
   "outputs": [
    {
     "name": "stdout",
     "output_type": "stream",
     "text": [
      "<class 'pandas.core.frame.DataFrame'>\n",
      "    0   1   2   3\n",
      "0   1   2   3   4\n",
      "1   5   6   7   8\n",
      "2   9  10  11  12\n",
      "3  13  14  15  16\n"
     ]
    }
   ],
   "source": [
    "list = [[1,2,3,4],[5,6,7,8],[9,10,11,12],[13,14,15,16]]\n",
    "\n",
    "var = pd.DataFrame(list)\n",
    "\n",
    "print(type(var))\n",
    "print(var)"
   ]
  },
  {
   "cell_type": "code",
   "execution_count": 38,
   "id": "4fab4cf0-4710-408a-a297-e7a997fd7823",
   "metadata": {},
   "outputs": [
    {
     "name": "stdout",
     "output_type": "stream",
     "text": [
      "   a   b   c\n",
      "0  1  10  21\n",
      "1  2  11  22\n",
      "2  3  12  23\n",
      "3  4  13  24\n",
      "4  5  14  25\n"
     ]
    }
   ],
   "source": [
    "s = {\"a\":pd.Series([1,2,3,4,5]) , \"b\":pd.Series([10,11,12,13,14]) , \"c\":pd.Series([21,22,23,24,25])}\n",
    "\n",
    "var = pd.DataFrame(s)\n",
    "\n",
    "print(var)"
   ]
  },
  {
   "cell_type": "code",
   "execution_count": null,
   "id": "1ed4f9af-3027-4645-8ed8-615c71f2e598",
   "metadata": {},
   "outputs": [],
   "source": []
  }
 ],
 "metadata": {
  "kernelspec": {
   "display_name": "Python 3 (ipykernel)",
   "language": "python",
   "name": "python3"
  },
  "language_info": {
   "codemirror_mode": {
    "name": "ipython",
    "version": 3
   },
   "file_extension": ".py",
   "mimetype": "text/x-python",
   "name": "python",
   "nbconvert_exporter": "python",
   "pygments_lexer": "ipython3",
   "version": "3.12.4"
  }
 },
 "nbformat": 4,
 "nbformat_minor": 5
}
