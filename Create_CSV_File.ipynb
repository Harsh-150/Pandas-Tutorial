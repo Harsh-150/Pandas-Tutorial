{
 "cells": [
  {
   "cell_type": "code",
   "execution_count": 15,
   "id": "a92c91ee-2512-4098-9a75-98c5c3aab18a",
   "metadata": {},
   "outputs": [
    {
     "name": "stdout",
     "output_type": "stream",
     "text": [
      "   A  B   C\n",
      "0  1  6  11\n",
      "1  2  7  12\n",
      "2  3  8  13\n",
      "3  4  9  14\n"
     ]
    }
   ],
   "source": [
    "import pandas as pd\n",
    "\n",
    "df = {\"A\":[1,2,3,4] , \"B\":[6,7,8,9] , \"C\":[11,12,13,14]}\n",
    "var = pd.DataFrame(df)\n",
    "\n",
    "print(var)\n",
    "\n",
    "var.to_csv(\"Test1.csv\")\n",
    "var.to_csv(\"Test2.csv\" , index=False)\n",
    "var.to_csv(\"Test.csv\" , index=False , header=[\"first\",\"second\",\"third\"])"
   ]
  },
  {
   "cell_type": "code",
   "execution_count": null,
   "id": "d2309851-4efb-462c-add3-7c1fd6857d2f",
   "metadata": {},
   "outputs": [],
   "source": []
  }
 ],
 "metadata": {
  "kernelspec": {
   "display_name": "Python 3 (ipykernel)",
   "language": "python",
   "name": "python3"
  },
  "language_info": {
   "codemirror_mode": {
    "name": "ipython",
    "version": 3
   },
   "file_extension": ".py",
   "mimetype": "text/x-python",
   "name": "python",
   "nbconvert_exporter": "python",
   "pygments_lexer": "ipython3",
   "version": "3.12.4"
  }
 },
 "nbformat": 4,
 "nbformat_minor": 5
}
