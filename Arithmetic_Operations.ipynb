{
 "cells": [
  {
   "cell_type": "code",
   "execution_count": 5,
   "id": "45903174-eadf-41f7-88e5-b114625bb2bb",
   "metadata": {},
   "outputs": [
    {
     "name": "stdout",
     "output_type": "stream",
     "text": [
      "   A  B\n",
      "0  1  6\n",
      "1  2  7\n",
      "2  3  8\n",
      "3  4  9\n",
      "\n",
      "   A  B   C  D   E         F\n",
      "0  1  6   7 -5   6  0.166667\n",
      "1  2  7   9 -5  14  0.285714\n",
      "2  3  8  11 -5  24  0.375000\n",
      "3  4  9  13 -5  36  0.444444\n"
     ]
    }
   ],
   "source": [
    "import pandas as pd\n",
    "\n",
    "var = pd.DataFrame({\"A\":[1,2,3,4] , \"B\":[6,7,8,9]})\n",
    "\n",
    "print(var)\n",
    "print()\n",
    "\n",
    "var[\"C\"] = var[\"A\"]+var[\"B\"]\n",
    "var[\"D\"] = var[\"A\"]-var[\"B\"]\n",
    "var[\"E\"] = var[\"A\"]*var[\"B\"]\n",
    "var[\"F\"] = var[\"A\"]/var[\"B\"]\n",
    "\n",
    "print(var)"
   ]
  },
  {
   "cell_type": "code",
   "execution_count": 17,
   "id": "c0e3a047-5c10-45fe-9979-a1e062e89c8f",
   "metadata": {},
   "outputs": [
    {
     "name": "stdout",
     "output_type": "stream",
     "text": [
      "    A  B\n",
      "0  10  6\n",
      "1   2  7\n",
      "2  30  8\n",
      "3  40  9\n",
      "    A  B      C      D\n",
      "0  10  6   True  False\n",
      "1   2  7   True   True\n",
      "2  30  8  False   True\n",
      "3  40  9  False   True\n"
     ]
    }
   ],
   "source": [
    "df = pd.DataFrame({\"A\":[10,2,30,40] , \"B\":[6,7,8,9]})\n",
    "\n",
    "print(df)\n",
    "\n",
    "df[\"C\"] = df[\"A\"]<=15\n",
    "df[\"D\"] = df[\"B\"]>=7\n",
    "\n",
    "print(df)"
   ]
  },
  {
   "cell_type": "code",
   "execution_count": null,
   "id": "73cd1546-e596-4d62-84c0-1690980133a5",
   "metadata": {},
   "outputs": [],
   "source": []
  }
 ],
 "metadata": {
  "kernelspec": {
   "display_name": "Python 3 (ipykernel)",
   "language": "python",
   "name": "python3"
  },
  "language_info": {
   "codemirror_mode": {
    "name": "ipython",
    "version": 3
   },
   "file_extension": ".py",
   "mimetype": "text/x-python",
   "name": "python",
   "nbconvert_exporter": "python",
   "pygments_lexer": "ipython3",
   "version": "3.12.4"
  }
 },
 "nbformat": 4,
 "nbformat_minor": 5
}
