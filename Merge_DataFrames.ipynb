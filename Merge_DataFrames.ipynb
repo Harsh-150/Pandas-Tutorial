{
 "cells": [
  {
   "cell_type": "code",
   "execution_count": 13,
   "id": "af47d250-1834-43fe-81d8-558fafc5545f",
   "metadata": {},
   "outputs": [
    {
     "name": "stdout",
     "output_type": "stream",
     "text": [
      "   A   B    C\n",
      "0  1  12  129\n",
      "1  2  23  293\n",
      "2  3  44  256\n",
      "3  5  74  574\n",
      "\n",
      "   A    C   B\n",
      "0  1  129  12\n",
      "1  2  293  23\n",
      "2  3  256  44\n",
      "3  5  574  74\n",
      "\n",
      "   A      C   B\n",
      "0  1  129.0  12\n",
      "1  2  293.0  23\n",
      "2  3  256.0  44\n",
      "3  4    NaN  56\n",
      "4  5  574.0  74\n"
     ]
    }
   ],
   "source": [
    "import pandas as pd\n",
    "\n",
    "var1 = pd.DataFrame({\"A\":[1,2,3,4,5] , \"B\":[12,23,44,56,74]})\n",
    "var2 = pd.DataFrame({\"A\":[1,2,3,5] , \"C\":[129,293,256,574]})\n",
    "\n",
    "var3 = pd.merge(var1,var2,on=\"A\")\n",
    "var4 = pd.merge(var2,var1,on=\"A\" , how=\"inner\")\n",
    "var5 = pd.merge(var2,var1,on=\"A\" , how=\"right\")\n",
    "\n",
    "print(var3)\n",
    "print()\n",
    "print(var4)\n",
    "print()\n",
    "print(var5)"
   ]
  },
  {
   "cell_type": "code",
   "execution_count": 19,
   "id": "fabb6e23-1f2c-48f2-9b99-42b363b8cbd2",
   "metadata": {},
   "outputs": [
    {
     "name": "stdout",
     "output_type": "stream",
     "text": [
      "   A     B      C\n",
      "0  1  12.0    NaN\n",
      "1  2  23.0    NaN\n",
      "2  3  44.0    NaN\n",
      "3  4  56.0    NaN\n",
      "4  5  74.0    NaN\n",
      "0  1   NaN  129.0\n",
      "1  2   NaN  293.0\n",
      "2  3   NaN  256.0\n",
      "3  5   NaN  574.0\n"
     ]
    }
   ],
   "source": [
    "print(pd.concat([var1,var2]))"
   ]
  },
  {
   "cell_type": "code",
   "execution_count": null,
   "id": "6fe08de2-1dd2-455d-9f20-58984a20a80d",
   "metadata": {},
   "outputs": [],
   "source": []
  }
 ],
 "metadata": {
  "kernelspec": {
   "display_name": "Python 3 (ipykernel)",
   "language": "python",
   "name": "python3"
  },
  "language_info": {
   "codemirror_mode": {
    "name": "ipython",
    "version": 3
   },
   "file_extension": ".py",
   "mimetype": "text/x-python",
   "name": "python",
   "nbconvert_exporter": "python",
   "pygments_lexer": "ipython3",
   "version": "3.12.4"
  }
 },
 "nbformat": 4,
 "nbformat_minor": 5
}
