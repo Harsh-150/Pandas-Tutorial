{
 "cells": [
  {
   "cell_type": "code",
   "execution_count": 7,
   "id": "cfe83ce5-14fa-4d1f-924d-774c6685f75d",
   "metadata": {},
   "outputs": [
    {
     "name": "stdout",
     "output_type": "stream",
     "text": [
      "    Emp ID Name Prefix First Name Middle Initial Last Name Gender  \\\n",
      "0   677509        Drs.       Lois              H    Walker      F   \n",
      "1   940761         Ms.     Brenda              S  Robinson      F   \n",
      "2   428945         Dr.        Joe              W  Robinson      M   \n",
      "3   408351        Drs.      Diane              I     Evans      F   \n",
      "4   193819         Mr.   Benjamin              R   Russell      M   \n",
      "..     ...         ...        ...            ...       ...    ...   \n",
      "95  639892         Mr.       Jose              K      Hill      M   \n",
      "96  704709         Dr.     Harold              Z    Nelson      M   \n",
      "97  461593         Ms.     Nicole              O      Ward      F   \n",
      "98  392491        Mrs.    Theresa              R    Murphy      F   \n",
      "99  495141        Drs.      Tammy              B     Young      F   \n",
      "\n",
      "                          E Mail     Father's Name       Mother's Name  \\\n",
      "0        lois.walker@hotmail.com     Donald Walker        Helen Walker   \n",
      "1      brenda.robinson@gmail.com  Raymond Robinson       Judy Robinson   \n",
      "2         joe.robinson@gmail.com    Scott Robinson  Stephanie Robinson   \n",
      "3          diane.evans@yahoo.com       Jason Evans      Michelle Evans   \n",
      "4   benjamin.russell@charter.net   Gregory Russell   Elizabeth Russell   \n",
      "..                           ...               ...                 ...   \n",
      "95         jose.hill@hotmail.com       Carlos Hill           Anna Hill   \n",
      "96       harold.nelson@gmail.com    Richard Nelson       Pamela Nelson   \n",
      "97         nicole.ward@yahoo.com        Ralph Ward          Julia Ward   \n",
      "98      theresa.murphy@gmail.com     George Murphy   Jacqueline Murphy   \n",
      "99       tammy.young@comcast.net      Andrew Young        Brenda Young   \n",
      "\n",
      "   Mother's Maiden Name  Salary  \n",
      "0                 Lewis  168251  \n",
      "1                 Perry   51063  \n",
      "2                Taylor   50155  \n",
      "3                 Allen  180294  \n",
      "4                Nelson  117642  \n",
      "..                  ...     ...  \n",
      "95                Hayes  129774  \n",
      "96                Smith  156194  \n",
      "97                  Lee   95673  \n",
      "98             Peterson   51015  \n",
      "99             Robinson   93650  \n",
      "\n",
      "[100 rows x 11 columns]\n"
     ]
    }
   ],
   "source": [
    "import pandas as pd\n",
    "\n",
    "df = pd.read_csv(\"Employee-Data.csv\")\n",
    "print(df)"
   ]
  },
  {
   "cell_type": "code",
   "execution_count": 9,
   "id": "06d78536-c304-49ca-9562-00913cb39292",
   "metadata": {},
   "outputs": [
    {
     "name": "stdout",
     "output_type": "stream",
     "text": [
      "    Emp ID Name Prefix First Name Middle Initial Last Name Gender  \\\n",
      "0   677509        Drs.       Lois              H    Walker      F   \n",
      "1   940761         Ms.     Brenda              S  Robinson      F   \n",
      "2   428945         Dr.        Joe              W  Robinson      M   \n",
      "3   408351        Drs.      Diane              I     Evans      F   \n",
      "4   193819         Mr.   Benjamin              R   Russell      M   \n",
      "..     ...         ...        ...            ...       ...    ...   \n",
      "95  639892         Mr.       Jose              K      Hill      M   \n",
      "96  704709         Dr.     Harold              Z    Nelson      M   \n",
      "97  461593         Ms.     Nicole              O      Ward      F   \n",
      "98  392491        Mrs.    Theresa              R    Murphy      F   \n",
      "99  495141        Drs.      Tammy              B     Young      F   \n",
      "\n",
      "                          E Mail     Father's Name       Mother's Name  \\\n",
      "0        lois.walker@hotmail.com     Donald Walker        Helen Walker   \n",
      "1      brenda.robinson@gmail.com  Raymond Robinson       Judy Robinson   \n",
      "2         joe.robinson@gmail.com    Scott Robinson  Stephanie Robinson   \n",
      "3          diane.evans@yahoo.com       Jason Evans      Michelle Evans   \n",
      "4   benjamin.russell@charter.net   Gregory Russell   Elizabeth Russell   \n",
      "..                           ...               ...                 ...   \n",
      "95         jose.hill@hotmail.com       Carlos Hill           Anna Hill   \n",
      "96       harold.nelson@gmail.com    Richard Nelson       Pamela Nelson   \n",
      "97         nicole.ward@yahoo.com        Ralph Ward          Julia Ward   \n",
      "98      theresa.murphy@gmail.com     George Murphy   Jacqueline Murphy   \n",
      "99       tammy.young@comcast.net      Andrew Young        Brenda Young   \n",
      "\n",
      "   Mother's Maiden Name  Salary   Salary Value  \n",
      "0                 Lewis  168251    High Salary  \n",
      "1                 Perry   51063  Medium Salary  \n",
      "2                Taylor   50155  Medium Salary  \n",
      "3                 Allen  180294    High Salary  \n",
      "4                Nelson  117642    High Salary  \n",
      "..                  ...     ...            ...  \n",
      "95                Hayes  129774    High Salary  \n",
      "96                Smith  156194    High Salary  \n",
      "97                  Lee   95673    High Salary  \n",
      "98             Peterson   51015  Medium Salary  \n",
      "99             Robinson   93650    High Salary  \n",
      "\n",
      "[100 rows x 12 columns]\n"
     ]
    }
   ],
   "source": [
    "df.loc[(df[\"Salary\"] >= 90000) , \"Salary Value\"] = \"High Salary\"\n",
    "df.loc[(df[\"Salary\"] < 90000) , \"Salary Value\"] = \"Medium Salary\"\n",
    "\n",
    "print(df)"
   ]
  },
  {
   "cell_type": "code",
   "execution_count": 13,
   "id": "6ded96d6-66b0-4fa3-ba20-d7048a5d90bd",
   "metadata": {},
   "outputs": [
    {
     "name": "stdout",
     "output_type": "stream",
     "text": [
      "    Emp ID Name Prefix First Name Middle Initial Last Name Gender  \\\n",
      "0   677509        Drs.       Lois              H    Walker      F   \n",
      "1   940761         Ms.     Brenda              S  Robinson      F   \n",
      "2   428945         Dr.        Joe              W  Robinson      M   \n",
      "3   408351        Drs.      Diane              I     Evans      F   \n",
      "4   193819         Mr.   Benjamin              R   Russell      M   \n",
      "..     ...         ...        ...            ...       ...    ...   \n",
      "95  639892         Mr.       Jose              K      Hill      M   \n",
      "96  704709         Dr.     Harold              Z    Nelson      M   \n",
      "97  461593         Ms.     Nicole              O      Ward      F   \n",
      "98  392491        Mrs.    Theresa              R    Murphy      F   \n",
      "99  495141        Drs.      Tammy              B     Young      F   \n",
      "\n",
      "                          E Mail     Father's Name       Mother's Name  \\\n",
      "0        lois.walker@hotmail.com     Donald Walker        Helen Walker   \n",
      "1      brenda.robinson@gmail.com  Raymond Robinson       Judy Robinson   \n",
      "2         joe.robinson@gmail.com    Scott Robinson  Stephanie Robinson   \n",
      "3          diane.evans@yahoo.com       Jason Evans      Michelle Evans   \n",
      "4   benjamin.russell@charter.net   Gregory Russell   Elizabeth Russell   \n",
      "..                           ...               ...                 ...   \n",
      "95         jose.hill@hotmail.com       Carlos Hill           Anna Hill   \n",
      "96       harold.nelson@gmail.com    Richard Nelson       Pamela Nelson   \n",
      "97         nicole.ward@yahoo.com        Ralph Ward          Julia Ward   \n",
      "98      theresa.murphy@gmail.com     George Murphy   Jacqueline Murphy   \n",
      "99       tammy.young@comcast.net      Andrew Young        Brenda Young   \n",
      "\n",
      "   Mother's Maiden Name  Salary   Salary Value           Full Name  \n",
      "0                 Lewis  168251    High Salary       Lois H Walker  \n",
      "1                 Perry   51063  Medium Salary   Brenda S Robinson  \n",
      "2                Taylor   50155  Medium Salary      Joe W Robinson  \n",
      "3                 Allen  180294    High Salary       Diane I Evans  \n",
      "4                Nelson  117642    High Salary  Benjamin R Russell  \n",
      "..                  ...     ...            ...                 ...  \n",
      "95                Hayes  129774    High Salary         Jose K Hill  \n",
      "96                Smith  156194    High Salary     Harold Z Nelson  \n",
      "97                  Lee   95673    High Salary       Nicole O Ward  \n",
      "98             Peterson   51015  Medium Salary    Theresa R Murphy  \n",
      "99             Robinson   93650    High Salary       Tammy B Young  \n",
      "\n",
      "[100 rows x 13 columns]\n"
     ]
    }
   ],
   "source": [
    "df[\"Full Name\"] = df[\"First Name\"] + \" \" + df[\"Middle Initial\"] + \" \" + df[\"Last Name\"]\n",
    "\n",
    "print(df)"
   ]
  },
  {
   "cell_type": "code",
   "execution_count": 15,
   "id": "74a60f0a-979c-451e-9b7a-20b031c97835",
   "metadata": {},
   "outputs": [
    {
     "name": "stdout",
     "output_type": "stream",
     "text": [
      "    Emp ID Name Prefix First Name Middle Initial Last Name Gender  \\\n",
      "0   677509        Drs.       Lois              H    Walker      F   \n",
      "1   940761         Ms.     Brenda              S  Robinson      F   \n",
      "2   428945         Dr.        Joe              W  Robinson      M   \n",
      "3   408351        Drs.      Diane              I     Evans      F   \n",
      "4   193819         Mr.   Benjamin              R   Russell      M   \n",
      "..     ...         ...        ...            ...       ...    ...   \n",
      "95  639892         Mr.       Jose              K      Hill      M   \n",
      "96  704709         Dr.     Harold              Z    Nelson      M   \n",
      "97  461593         Ms.     Nicole              O      Ward      F   \n",
      "98  392491        Mrs.    Theresa              R    Murphy      F   \n",
      "99  495141        Drs.      Tammy              B     Young      F   \n",
      "\n",
      "                          E Mail     Father's Name       Mother's Name  \\\n",
      "0        lois.walker@hotmail.com     Donald Walker        Helen Walker   \n",
      "1      brenda.robinson@gmail.com  Raymond Robinson       Judy Robinson   \n",
      "2         joe.robinson@gmail.com    Scott Robinson  Stephanie Robinson   \n",
      "3          diane.evans@yahoo.com       Jason Evans      Michelle Evans   \n",
      "4   benjamin.russell@charter.net   Gregory Russell   Elizabeth Russell   \n",
      "..                           ...               ...                 ...   \n",
      "95         jose.hill@hotmail.com       Carlos Hill           Anna Hill   \n",
      "96       harold.nelson@gmail.com    Richard Nelson       Pamela Nelson   \n",
      "97         nicole.ward@yahoo.com        Ralph Ward          Julia Ward   \n",
      "98      theresa.murphy@gmail.com     George Murphy   Jacqueline Murphy   \n",
      "99       tammy.young@comcast.net      Andrew Young        Brenda Young   \n",
      "\n",
      "   Mother's Maiden Name  Salary    Bonus  \n",
      "0                 Lewis  168251  33650.2  \n",
      "1                 Perry   51063  10212.6  \n",
      "2                Taylor   50155  10031.0  \n",
      "3                 Allen  180294  36058.8  \n",
      "4                Nelson  117642  23528.4  \n",
      "..                  ...     ...      ...  \n",
      "95                Hayes  129774  25954.8  \n",
      "96                Smith  156194  31238.8  \n",
      "97                  Lee   95673  19134.6  \n",
      "98             Peterson   51015  10203.0  \n",
      "99             Robinson   93650  18730.0  \n",
      "\n",
      "[100 rows x 12 columns]\n"
     ]
    }
   ],
   "source": [
    "data[\"Bonus\"] = (data[\"Salary\"]*20)/100\n",
    "print(data)"
   ]
  },
  {
   "cell_type": "code",
   "execution_count": 21,
   "id": "da51a94d-c57e-45d5-9b3b-2834b2c08df1",
   "metadata": {},
   "outputs": [
    {
     "name": "stdout",
     "output_type": "stream",
     "text": [
      "     Months\n",
      "0   January\n",
      "1  February\n",
      "2     March\n",
      "3     April\n",
      "4       May\n",
      "5      June\n",
      "     Months Short_Months\n",
      "0   January          Jan\n",
      "1  February          Feb\n",
      "2     March          Mar\n",
      "3     April          Apr\n",
      "4       May          May\n",
      "5      June          Jun\n"
     ]
    }
   ],
   "source": [
    "df = {\"Months\":[\"January\" , \"February\" , \"March\" , \"April\" , \"May\" , \"June\"]}\n",
    "\n",
    "a = pd.DataFrame(df)\n",
    "print(a)\n",
    "\n",
    "def extract(value):\n",
    "    return value[0:3]\n",
    "\n",
    "a[\"Short_Months\"] = a[\"Months\"].map(extract)\n",
    "print(a)"
   ]
  },
  {
   "cell_type": "code",
   "execution_count": null,
   "id": "074e076c-3180-48ed-ad3e-5e95af7f1027",
   "metadata": {},
   "outputs": [],
   "source": []
  }
 ],
 "metadata": {
  "kernelspec": {
   "display_name": "Python 3 (ipykernel)",
   "language": "python",
   "name": "python3"
  },
  "language_info": {
   "codemirror_mode": {
    "name": "ipython",
    "version": 3
   },
   "file_extension": ".py",
   "mimetype": "text/x-python",
   "name": "python",
   "nbconvert_exporter": "python",
   "pygments_lexer": "ipython3",
   "version": "3.12.4"
  }
 },
 "nbformat": 4,
 "nbformat_minor": 5
}
