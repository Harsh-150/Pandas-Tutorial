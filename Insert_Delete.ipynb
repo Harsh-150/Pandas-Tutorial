{
 "cells": [
  {
   "cell_type": "code",
   "execution_count": 11,
   "id": "5a1c86d0-adfc-4367-be79-a9ce42772995",
   "metadata": {},
   "outputs": [
    {
     "name": "stdout",
     "output_type": "stream",
     "text": [
      "   A  B\n",
      "0  1  6\n",
      "1  2  7\n",
      "2  3  8\n",
      "3  4  9\n",
      "\n",
      "   A  B   C\n",
      "0  1  6   7\n",
      "1  2  7   9\n",
      "2  3  8  11\n",
      "3  4  9  13\n",
      "\n",
      "   A  B   C    D\n",
      "0  1  6   7  1.0\n",
      "1  2  7   9  2.0\n",
      "2  3  8  11  3.0\n",
      "3  4  9  13  NaN\n"
     ]
    }
   ],
   "source": [
    "import pandas as pd\n",
    "\n",
    "var = pd.DataFrame({\"A\":[1,2,3,4] , \"B\":[6,7,8,9]})\n",
    "\n",
    "print(var)\n",
    "print()\n",
    "\n",
    "var.insert(2,\"C\",(var[\"A\"]+var[\"B\"])) # position, column_name , column_value\n",
    "\n",
    "print(var)\n",
    "print()\n",
    "\n",
    "var[\"D\"] = var[\"A\"][:3]\n",
    "print(var)"
   ]
  },
  {
   "cell_type": "code",
   "execution_count": 19,
   "id": "a7d16f15-7224-4484-9c29-d7d7305a38c5",
   "metadata": {},
   "outputs": [
    {
     "name": "stdout",
     "output_type": "stream",
     "text": [
      "   A  B   C\n",
      "0  1  6  12\n",
      "1  2  7  13\n",
      "2  3  8  11\n",
      "3  4  9  15\n",
      "\n",
      "0    6\n",
      "1    7\n",
      "2    8\n",
      "3    9\n",
      "Name: B, dtype: int64\n",
      "\n",
      "   A   C\n",
      "0  1  12\n",
      "1  2  13\n",
      "2  3  11\n",
      "3  4  15\n"
     ]
    }
   ],
   "source": [
    "df = pd.DataFrame({\"A\":[1,2,3,4] , \"B\":[6,7,8,9] , \"C\":[12,13,11,15]})\n",
    "\n",
    "print(df)\n",
    "print()\n",
    "\n",
    "df1 = df.pop(\"B\")\n",
    "\n",
    "print(df1)\n",
    "print()\n",
    "print(df)"
   ]
  },
  {
   "cell_type": "code",
   "execution_count": null,
   "id": "a6b21d1d-4d6b-42f5-a7c4-d5b5c3117474",
   "metadata": {},
   "outputs": [],
   "source": []
  }
 ],
 "metadata": {
  "kernelspec": {
   "display_name": "Python 3 (ipykernel)",
   "language": "python",
   "name": "python3"
  },
  "language_info": {
   "codemirror_mode": {
    "name": "ipython",
    "version": 3
   },
   "file_extension": ".py",
   "mimetype": "text/x-python",
   "name": "python",
   "nbconvert_exporter": "python",
   "pygments_lexer": "ipython3",
   "version": "3.12.4"
  }
 },
 "nbformat": 4,
 "nbformat_minor": 5
}
